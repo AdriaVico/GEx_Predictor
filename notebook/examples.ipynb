{
 "cells": [
  {
   "cell_type": "code",
   "execution_count": 32,
   "id": "e3b5ab94",
   "metadata": {},
   "outputs": [],
   "source": [
    "import numpy as np \n",
    "import sys\n",
    "import os \n",
    "import importlib"
   ]
  },
  {
   "cell_type": "code",
   "execution_count": 56,
   "id": "222e6557",
   "metadata": {},
   "outputs": [],
   "source": [
    "sys.path.append(os.path.abspath(\"..\"))\n",
    "\n",
    "import gex_predictor.GEx_Predictor\n",
    "\n",
    "importlib.reload(sys.modules['gex_predictor.GEx_Predictor'])\n",
    "\n",
    "from gex_predictor.GEx_Predictor import GEx_Predictor"
   ]
  },
  {
   "cell_type": "code",
   "execution_count": 57,
   "id": "745af8fc",
   "metadata": {},
   "outputs": [
    {
     "data": {
      "text/plain": [
       "array(['CN(C)C/C=C/C(=O)Nc1cc2c(Nc3ccc(F)c(Cl)c3)ncnc2cc1O[C@H]1CCOC1',\n",
       "       'Cc1ccc(NC(=O)c2ccc(CN3CC[C@H](N(C)C)C3)c(C(F)(F)F)c2)cc1Nc1nccc(-c2cncnc2)n1',\n",
       "       'COc1cc2ncnc(Nc3ccc(F)c(Cl)c3)c2cc1NC(=O)/C=C/CN1CCCCC1.O',\n",
       "       'C#Cc1cccc(Nc2ncnc3cc4c(cc23)OCCOCCOCCO4)c1',\n",
       "       'O=C(c1ccc(/C=C/c2n[nH]c3ccccc23)cc1)N1CCNCC1',\n",
       "       'COCCNCc1ccc(-c2cc3nccc(Oc4ccc(NC(=S)NC(=O)Cc5ccc(F)cc5)cc4F)c3s2)nc1',\n",
       "       'CCOc1cc2ncc(C#N)c(Nc3ccc(OCc4ccccn4)c(Cl)c3)c2cc1NC(=O)/C=C/CN(C)C',\n",
       "       'CCN(CC)CCNC(=O)c1c(C)[nH]c(/C=C2\\\\C(=O)Nc3ccc(F)cc32)c1C',\n",
       "       'O=C(/C=C/c1cccc(S(=O)(=O)Nc2ccccc2)c1)NO',\n",
       "       'COc1cc2c(cc1OC(C)C)[C@H](c1ccc(Cl)cc1)N(c1ccc(N(C)C[C@H]3CC[C@H](N4CCN(C)C(=O)C4)CC3)cc1)C(=O)C2',\n",
       "       'O=C(/C=C/c1cccnc1)NCCCCC1CCN(C(=O)c2ccccc2)CC1',\n",
       "       'Cn1c2ccccc2c2c3c(c4c5ccccc5n(CCC#N)c4c21)CNC3=O',\n",
       "       'COc1ccc(S(=O)(=O)N(C(C)=O)c2ccccc2/C=C/c2cc[n+]([O-])cc2)cc1',\n",
       "       'Nc1ncnc2c1c(I)cn2[C@@H]1O[C@H](CO)[C@@H](O)[C@H]1O',\n",
       "       'C/C(=C\\\\c1csc(C)n1)[C@@H]1C[C@@H]2O[C@]2(C)CCC[C@H](C)[C@H](O)[C@@H](C)C(=O)C(C)(C)[C@@H](O)CC(=O)N1',\n",
       "       'FC(F)(F)c1ccc(/C=C/c2nc(COc3ccc(CCCCn4ccnn4)cc3)co2)cc1',\n",
       "       'COC[C@H](NC(=O)c1cnc(C)s1)C(=O)N[C@@H](COC)C(=O)N[C@@H](Cc1ccccc1)C(=O)[C@@]1(C)CO1',\n",
       "       'O=C(O)C[C@H](O)C[C@H](O)/C=C/c1c(C2CC2)nc2ccccc2c1-c1ccc(F)cc1',\n",
       "       'C[C@]12C=CC(=O)C=C1CC[C@@H]1[C@@H]2[C@@H](O)C[C@@]2(C)[C@H]1CC[C@]2(O)C(=O)CO',\n",
       "       'C[C@@H]1O[C@@H](O[C@@H]2C=C3CC[C@@H]4[C@H](CC[C@]5(C)[C@@H](c6ccc(=O)oc6)CC[C@]45O)[C@@]3(C)CC2)[C@H](O)[C@H](O)[C@H]1O',\n",
       "       'CCOc1cc(C(C)(C)C)ccc1C1=N[C@@](C)(c2ccc(Cl)cc2)[C@@](C)(c2ccc(Cl)cc2)N1C(=O)N1CCN(CCCS(C)(=O)=O)CC1',\n",
       "       'CN1CCN(c2ccc(Nc3cc(-c4cccc(-n5ccc6cc(C7CC7)cc(F)c6c5=O)c4CO)cn(C)c3=O)nc2)CC1',\n",
       "       'CN(C)Cc1ccc(S(=O)(=O)n2ccc(/C=C/C(=O)NO)c2)cc1',\n",
       "       'CC1=NN(c2ccc(C(=O)O)cc2)C(=O)/C1=C/c1ccc(-c2cc(C)c(C)cc2[N+](=O)[O-])o1',\n",
       "       'C=C1/C(=C\\\\C=C2/CCC[C@]3(C)[C@@H]([C@H](C)CC[C@@H](O)C(C)C)CC[C@@H]23)C[C@@H](O)C[C@@H]1O'],\n",
       "      dtype=object)"
      ]
     },
     "execution_count": 57,
     "metadata": {},
     "output_type": "execute_result"
    }
   ],
   "source": [
    "smiles_kaggle_loaded = np.load(\"smiles_kaggle_testing.npy\", allow_pickle=True)\n",
    "\n",
    "# Example smiles to predict\n",
    "smiles_kaggle_loaded\n"
   ]
  },
  {
   "cell_type": "code",
   "execution_count": 58,
   "id": "745af8fc",
   "metadata": {},
   "outputs": [
    {
     "name": "stdout",
     "output_type": "stream",
     "text": [
      "[INFO] Using device: cpu\n",
      "/home/sbnb/avico/GEx_Predictor/model/fold_4.pt\n",
      "[INFO] Loading trained model from /home/sbnb/avico/GEx_Predictor/model/fold_4.pt ...\n",
      "[INFO] Model loaded successfully.\n"
     ]
    }
   ],
   "source": [
    "gex_predictor = GEx_Predictor()"
   ]
  },
  {
   "cell_type": "code",
   "execution_count": 59,
   "id": "b72f30db",
   "metadata": {},
   "outputs": [
    {
     "name": "stdout",
     "output_type": "stream",
     "text": [
      "[INFO] Starting prediction for input type: SMILES\n",
      "INPUT (25,)\n"
     ]
    },
    {
     "name": "stderr",
     "output_type": "stream",
     "text": [
      "[17:44:31] Initializing MetalDisconnector\n",
      "[17:44:31] Running MetalDisconnector\n",
      "[17:44:31] Initializing Normalizer\n",
      "[17:44:31] Running Normalizer\n",
      "[17:44:31] Running LargestFragmentChooser\n",
      "[17:44:31] Running Uncharger\n",
      "[17:44:31] Initializing MetalDisconnector\n",
      "[17:44:31] Running MetalDisconnector\n",
      "[17:44:31] Initializing Normalizer\n",
      "[17:44:31] Running Normalizer\n",
      "[17:44:31] Running LargestFragmentChooser\n",
      "[17:44:31] Running Uncharger\n",
      "[17:44:31] Initializing MetalDisconnector\n",
      "[17:44:31] Running MetalDisconnector\n",
      "[17:44:31] Initializing Normalizer\n",
      "[17:44:31] Running Normalizer\n",
      "[17:44:31] Running LargestFragmentChooser\n",
      "[17:44:31] Fragment: COc1cc2ncnc(Nc3ccc(F)c(Cl)c3)c2cc1NC(=O)/C=C/CN1CCCCC1\n",
      "[17:44:31] New largest fragment: COc1cc2ncnc(Nc3ccc(F)c(Cl)c3)c2cc1NC(=O)/C=C/CN1CCCCC1 (58)\n",
      "[17:44:31] Fragment: O\n",
      "[17:44:31] Running Uncharger\n",
      "[17:44:31] Initializing MetalDisconnector\n",
      "[17:44:31] Running MetalDisconnector\n",
      "[17:44:31] Initializing Normalizer\n",
      "[17:44:31] Running Normalizer\n",
      "[17:44:31] Running LargestFragmentChooser\n",
      "[17:44:31] Running Uncharger\n",
      "[17:44:31] Initializing MetalDisconnector\n",
      "[17:44:31] Running MetalDisconnector\n",
      "[17:44:31] Initializing Normalizer\n",
      "[17:44:31] Running Normalizer\n",
      "[17:44:31] Running LargestFragmentChooser\n",
      "[17:44:31] Running Uncharger\n",
      "[17:44:31] Initializing MetalDisconnector\n",
      "[17:44:31] Running MetalDisconnector\n",
      "[17:44:31] Initializing Normalizer\n",
      "[17:44:31] Running Normalizer\n",
      "[17:44:31] Running LargestFragmentChooser\n",
      "[17:44:31] Running Uncharger\n",
      "[17:44:31] Initializing MetalDisconnector\n",
      "[17:44:31] Running MetalDisconnector\n",
      "[17:44:31] Initializing Normalizer\n",
      "[17:44:31] Running Normalizer\n",
      "[17:44:31] Running LargestFragmentChooser\n",
      "[17:44:31] Running Uncharger\n",
      "[17:44:31] Initializing MetalDisconnector\n",
      "[17:44:31] Running MetalDisconnector\n",
      "[17:44:31] Initializing Normalizer\n",
      "[17:44:31] Running Normalizer\n",
      "[17:44:31] Running LargestFragmentChooser\n",
      "[17:44:31] Running Uncharger\n",
      "[17:44:31] Initializing MetalDisconnector\n",
      "[17:44:31] Running MetalDisconnector\n",
      "[17:44:31] Initializing Normalizer\n",
      "[17:44:31] Running Normalizer\n",
      "[17:44:31] Running LargestFragmentChooser\n",
      "[17:44:31] Running Uncharger\n",
      "[17:44:31] Initializing MetalDisconnector\n",
      "[17:44:31] Running MetalDisconnector\n",
      "[17:44:31] Initializing Normalizer\n",
      "[17:44:31] Running Normalizer\n",
      "[17:44:31] Running LargestFragmentChooser\n",
      "[17:44:31] Running Uncharger\n",
      "[17:44:31] Initializing MetalDisconnector\n",
      "[17:44:31] Running MetalDisconnector\n",
      "[17:44:31] Initializing Normalizer\n",
      "[17:44:31] Running Normalizer\n",
      "[17:44:31] Running LargestFragmentChooser\n",
      "[17:44:31] Running Uncharger\n",
      "[17:44:31] Initializing MetalDisconnector\n",
      "[17:44:31] Running MetalDisconnector\n",
      "[17:44:31] Initializing Normalizer\n",
      "[17:44:31] Running Normalizer\n",
      "[17:44:31] Running LargestFragmentChooser\n",
      "[17:44:31] Running Uncharger\n",
      "[17:44:31] Initializing MetalDisconnector\n",
      "[17:44:31] Running MetalDisconnector\n",
      "[17:44:31] Initializing Normalizer\n",
      "[17:44:31] Running Normalizer\n",
      "[17:44:31] Running LargestFragmentChooser\n",
      "[17:44:31] Running Uncharger\n",
      "[17:44:31] Initializing MetalDisconnector\n",
      "[17:44:31] Running MetalDisconnector\n",
      "[17:44:31] Initializing Normalizer\n",
      "[17:44:31] Running Normalizer\n",
      "[17:44:31] Running LargestFragmentChooser\n",
      "[17:44:31] Running Uncharger\n",
      "[17:44:31] Initializing MetalDisconnector\n",
      "[17:44:31] Running MetalDisconnector\n",
      "[17:44:31] Initializing Normalizer\n",
      "[17:44:31] Running Normalizer\n",
      "[17:44:31] Running LargestFragmentChooser\n",
      "[17:44:31] Running Uncharger\n",
      "[17:44:31] Initializing MetalDisconnector\n",
      "[17:44:31] Running MetalDisconnector\n",
      "[17:44:31] Initializing Normalizer\n",
      "[17:44:31] Running Normalizer\n",
      "[17:44:31] Running LargestFragmentChooser\n",
      "[17:44:31] Running Uncharger\n",
      "[17:44:31] Initializing MetalDisconnector\n",
      "[17:44:31] Running MetalDisconnector\n",
      "[17:44:31] Initializing Normalizer\n",
      "[17:44:31] Running Normalizer\n",
      "[17:44:31] Running LargestFragmentChooser\n",
      "[17:44:31] Running Uncharger\n",
      "[17:44:32] Initializing MetalDisconnector\n",
      "[17:44:32] Running MetalDisconnector\n",
      "[17:44:32] Initializing Normalizer\n",
      "[17:44:32] Running Normalizer\n",
      "[17:44:32] Running LargestFragmentChooser\n",
      "[17:44:32] Running Uncharger\n",
      "[17:44:32] Initializing MetalDisconnector\n",
      "[17:44:32] Running MetalDisconnector\n",
      "[17:44:32] Initializing Normalizer\n",
      "[17:44:32] Running Normalizer\n",
      "[17:44:32] Running LargestFragmentChooser\n",
      "[17:44:32] Running Uncharger\n",
      "[17:44:32] Initializing MetalDisconnector\n",
      "[17:44:32] Running MetalDisconnector\n",
      "[17:44:32] Initializing Normalizer\n",
      "[17:44:32] Running Normalizer\n",
      "[17:44:32] Running LargestFragmentChooser\n",
      "[17:44:32] Running Uncharger\n",
      "[17:44:32] Initializing MetalDisconnector\n",
      "[17:44:32] Running MetalDisconnector\n",
      "[17:44:32] Initializing Normalizer\n",
      "[17:44:32] Running Normalizer\n",
      "[17:44:32] Running LargestFragmentChooser\n",
      "[17:44:32] Running Uncharger\n",
      "[17:44:32] Initializing MetalDisconnector\n",
      "[17:44:32] Running MetalDisconnector\n",
      "[17:44:32] Initializing Normalizer\n",
      "[17:44:32] Running Normalizer\n",
      "[17:44:32] Running LargestFragmentChooser\n",
      "[17:44:32] Running Uncharger\n",
      "[17:44:32] Initializing MetalDisconnector\n",
      "[17:44:32] Running MetalDisconnector\n",
      "[17:44:32] Initializing Normalizer\n",
      "[17:44:32] Running Normalizer\n",
      "[17:44:32] Running LargestFragmentChooser\n",
      "[17:44:32] Running Uncharger\n",
      "[17:44:32] Initializing MetalDisconnector\n",
      "[17:44:32] Running MetalDisconnector\n",
      "[17:44:32] Initializing Normalizer\n",
      "[17:44:32] Running Normalizer\n",
      "[17:44:32] Running LargestFragmentChooser\n",
      "[17:44:32] Running Uncharger\n",
      "[17:44:32] Initializing MetalDisconnector\n",
      "[17:44:32] Running MetalDisconnector\n",
      "[17:44:32] Initializing Normalizer\n",
      "[17:44:32] Running Normalizer\n",
      "[17:44:32] Running LargestFragmentChooser\n",
      "[17:44:32] Running Uncharger\n",
      "Parsing SMILES: 25it [00:00, 3905.31it/s]\n",
      "Generating signatures:   0%|          | 0/1 [00:00<?, ?it/s]"
     ]
    },
    {
     "name": "stdout",
     "output_type": "stream",
     "text": [
      "1/1 [==============================] - 0s 472ms/step\n",
      "1/1 [==============================] - 0s 362ms/step\n"
     ]
    },
    {
     "name": "stderr",
     "output_type": "stream",
     "text": [
      "Generating signatures: 100%|██████████| 1/1 [00:00<00:00,  1.07it/s]"
     ]
    },
    {
     "name": "stdout",
     "output_type": "stream",
     "text": [
      "[STEP] Converting signatures to tensor and performing prediction...\n"
     ]
    },
    {
     "name": "stderr",
     "output_type": "stream",
     "text": [
      "\n"
     ]
    },
    {
     "name": "stdout",
     "output_type": "stream",
     "text": [
      "[INFO] Prediction completed successfully.\n"
     ]
    }
   ],
   "source": [
    "predictions = gex_predictor.predict(smiles_kaggle_loaded)"
   ]
  },
  {
   "cell_type": "code",
   "execution_count": 60,
   "id": "9476e683",
   "metadata": {},
   "outputs": [
    {
     "data": {
      "text/plain": [
       "array([[ 2.2639048 ,  0.5219343 ,  1.0985852 , ..., -0.52265155,\n",
       "         0.8450271 , -0.1906185 ],\n",
       "       [ 1.37856   ,  0.29210111,  0.7082047 , ..., -0.43396774,\n",
       "         0.19156355, -0.51224566],\n",
       "       [ 2.280591  ,  0.4950288 ,  1.0020744 , ..., -0.477054  ,\n",
       "         0.7340411 , -0.18701161],\n",
       "       ...,\n",
       "       [ 0.36036107,  1.7107551 ,  0.8923986 , ..., -0.6190652 ,\n",
       "         0.68787813,  0.17534938],\n",
       "       [ 0.10086842,  0.3026394 ,  0.55995774, ..., -0.31881884,\n",
       "         0.67758   ,  0.10280201],\n",
       "       [ 0.47007027, -0.25269958,  0.3577818 , ..., -0.18917042,\n",
       "        -0.06350008, -0.52537876]], dtype=float32)"
      ]
     },
     "execution_count": 60,
     "metadata": {},
     "output_type": "execute_result"
    }
   ],
   "source": [
    "predictions"
   ]
  },
  {
   "cell_type": "code",
   "execution_count": 61,
   "id": "3488638b",
   "metadata": {},
   "outputs": [
    {
     "data": {
      "text/plain": [
       "(25, 1035)"
      ]
     },
     "execution_count": 61,
     "metadata": {},
     "output_type": "execute_result"
    }
   ],
   "source": [
    "predictions.shape"
   ]
  },
  {
   "cell_type": "code",
   "execution_count": null,
   "id": "052d049a",
   "metadata": {},
   "outputs": [],
   "source": []
  }
 ],
 "metadata": {
  "kernelspec": {
   "display_name": "Python 3",
   "language": "python",
   "name": "python3"
  },
  "language_info": {
   "codemirror_mode": {
    "name": "ipython",
    "version": 3
   },
   "file_extension": ".py",
   "mimetype": "text/x-python",
   "name": "python",
   "nbconvert_exporter": "python",
   "pygments_lexer": "ipython3",
   "version": "3.10.13"
  }
 },
 "nbformat": 4,
 "nbformat_minor": 5
}
